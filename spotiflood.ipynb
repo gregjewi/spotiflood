{
 "cells": [
  {
   "cell_type": "code",
   "execution_count": 1,
   "metadata": {},
   "outputs": [],
   "source": [
    "import pandas as pd\n",
    "import matplotlib.pyplot as plt\n",
    "import pickle\n",
    "import numpy as np\n",
    "import simpleaudio as sa\n",
    "from scipy import signal\n",
    "import wavio"
   ]
  },
  {
   "cell_type": "markdown",
   "metadata": {},
   "source": [
    "### Import Saved Streamflow data\n",
    "these are **daily average streamflow data** for each gage in the Des Moines River Basin from **October 2010 to September of 2020**"
   ]
  },
  {
   "cell_type": "code",
   "execution_count": 2,
   "metadata": {},
   "outputs": [
    {
     "data": {
      "text/html": [
       "<div>\n",
       "<style scoped>\n",
       "    .dataframe tbody tr th:only-of-type {\n",
       "        vertical-align: middle;\n",
       "    }\n",
       "\n",
       "    .dataframe tbody tr th {\n",
       "        vertical-align: top;\n",
       "    }\n",
       "\n",
       "    .dataframe thead th {\n",
       "        text-align: right;\n",
       "    }\n",
       "</style>\n",
       "<table border=\"1\" class=\"dataframe\">\n",
       "  <thead>\n",
       "    <tr style=\"text-align: right;\">\n",
       "      <th></th>\n",
       "      <th>05476750</th>\n",
       "      <th>05479000</th>\n",
       "      <th>05480500</th>\n",
       "      <th>05481000</th>\n",
       "      <th>05481300</th>\n",
       "      <th>05481650</th>\n",
       "      <th>05481950</th>\n",
       "      <th>05482000</th>\n",
       "      <th>05482300</th>\n",
       "      <th>05482500</th>\n",
       "      <th>...</th>\n",
       "      <th>05487470</th>\n",
       "      <th>05487520</th>\n",
       "      <th>05487980</th>\n",
       "      <th>05488110</th>\n",
       "      <th>05488200</th>\n",
       "      <th>05488500</th>\n",
       "      <th>05489000</th>\n",
       "      <th>05489500</th>\n",
       "      <th>05490500</th>\n",
       "      <th>05494300</th>\n",
       "    </tr>\n",
       "  </thead>\n",
       "  <tbody>\n",
       "    <tr>\n",
       "      <th>2010-10-01</th>\n",
       "      <td>6560.0</td>\n",
       "      <td>1500</td>\n",
       "      <td>8710</td>\n",
       "      <td>402.0</td>\n",
       "      <td>9110</td>\n",
       "      <td>9230.0</td>\n",
       "      <td>624.0</td>\n",
       "      <td>10100</td>\n",
       "      <td>771.0</td>\n",
       "      <td>2180.0</td>\n",
       "      <td>...</td>\n",
       "      <td>107</td>\n",
       "      <td>15900</td>\n",
       "      <td>114.0</td>\n",
       "      <td>22000</td>\n",
       "      <td>28.3</td>\n",
       "      <td>23300</td>\n",
       "      <td>206.0</td>\n",
       "      <td>23300</td>\n",
       "      <td>24200.0</td>\n",
       "      <td>22.0</td>\n",
       "    </tr>\n",
       "    <tr>\n",
       "      <th>2010-10-02</th>\n",
       "      <td>7080.0</td>\n",
       "      <td>1500</td>\n",
       "      <td>9240</td>\n",
       "      <td>367.0</td>\n",
       "      <td>9590</td>\n",
       "      <td>9420.0</td>\n",
       "      <td>560.0</td>\n",
       "      <td>10200</td>\n",
       "      <td>699.0</td>\n",
       "      <td>1970.0</td>\n",
       "      <td>...</td>\n",
       "      <td>93.4</td>\n",
       "      <td>14900</td>\n",
       "      <td>93.7</td>\n",
       "      <td>20800</td>\n",
       "      <td>23.7</td>\n",
       "      <td>22100</td>\n",
       "      <td>175.0</td>\n",
       "      <td>22500</td>\n",
       "      <td>22800.0</td>\n",
       "      <td>18.3</td>\n",
       "    </tr>\n",
       "    <tr>\n",
       "      <th>2010-10-03</th>\n",
       "      <td>7420.0</td>\n",
       "      <td>1480</td>\n",
       "      <td>9560</td>\n",
       "      <td>335.0</td>\n",
       "      <td>9940</td>\n",
       "      <td>9790.0</td>\n",
       "      <td>509.0</td>\n",
       "      <td>10500</td>\n",
       "      <td>635.0</td>\n",
       "      <td>1810.0</td>\n",
       "      <td>...</td>\n",
       "      <td>85.3</td>\n",
       "      <td>14500</td>\n",
       "      <td>79.0</td>\n",
       "      <td>19700</td>\n",
       "      <td>23.0</td>\n",
       "      <td>20300</td>\n",
       "      <td>150.0</td>\n",
       "      <td>20900</td>\n",
       "      <td>21600.0</td>\n",
       "      <td>15.8</td>\n",
       "    </tr>\n",
       "    <tr>\n",
       "      <th>2010-10-04</th>\n",
       "      <td>7460.0</td>\n",
       "      <td>1440</td>\n",
       "      <td>9660</td>\n",
       "      <td>316.0</td>\n",
       "      <td>10100</td>\n",
       "      <td>10200.0</td>\n",
       "      <td>472.0</td>\n",
       "      <td>10800</td>\n",
       "      <td>593.0</td>\n",
       "      <td>1690.0</td>\n",
       "      <td>...</td>\n",
       "      <td>80.0</td>\n",
       "      <td>14500</td>\n",
       "      <td>71.4</td>\n",
       "      <td>17900</td>\n",
       "      <td>20.0</td>\n",
       "      <td>18400</td>\n",
       "      <td>142.0</td>\n",
       "      <td>19600</td>\n",
       "      <td>20300.0</td>\n",
       "      <td>14.6</td>\n",
       "    </tr>\n",
       "    <tr>\n",
       "      <th>2010-10-05</th>\n",
       "      <td>7440.0</td>\n",
       "      <td>1400</td>\n",
       "      <td>9610</td>\n",
       "      <td>303.0</td>\n",
       "      <td>10000</td>\n",
       "      <td>10200.0</td>\n",
       "      <td>442.0</td>\n",
       "      <td>10900</td>\n",
       "      <td>562.0</td>\n",
       "      <td>1600.0</td>\n",
       "      <td>...</td>\n",
       "      <td>76.6</td>\n",
       "      <td>14400</td>\n",
       "      <td>64.5</td>\n",
       "      <td>15900</td>\n",
       "      <td>18.0</td>\n",
       "      <td>16100</td>\n",
       "      <td>130.0</td>\n",
       "      <td>17300</td>\n",
       "      <td>18700.0</td>\n",
       "      <td>13.8</td>\n",
       "    </tr>\n",
       "  </tbody>\n",
       "</table>\n",
       "<p>5 rows × 32 columns</p>\n",
       "</div>"
      ],
      "text/plain": [
       "            05476750 05479000 05480500  05481000 05481300  05481650  05481950  \\\n",
       "2010-10-01    6560.0     1500     8710     402.0     9110    9230.0     624.0   \n",
       "2010-10-02    7080.0     1500     9240     367.0     9590    9420.0     560.0   \n",
       "2010-10-03    7420.0     1480     9560     335.0     9940    9790.0     509.0   \n",
       "2010-10-04    7460.0     1440     9660     316.0    10100   10200.0     472.0   \n",
       "2010-10-05    7440.0     1400     9610     303.0    10000   10200.0     442.0   \n",
       "\n",
       "           05482000  05482300  05482500   ...     05487470  05487520  \\\n",
       "2010-10-01    10100     771.0    2180.0   ...          107     15900   \n",
       "2010-10-02    10200     699.0    1970.0   ...         93.4     14900   \n",
       "2010-10-03    10500     635.0    1810.0   ...         85.3     14500   \n",
       "2010-10-04    10800     593.0    1690.0   ...         80.0     14500   \n",
       "2010-10-05    10900     562.0    1600.0   ...         76.6     14400   \n",
       "\n",
       "            05487980  05488110  05488200  05488500  05489000  05489500  \\\n",
       "2010-10-01     114.0     22000      28.3     23300     206.0     23300   \n",
       "2010-10-02      93.7     20800      23.7     22100     175.0     22500   \n",
       "2010-10-03      79.0     19700      23.0     20300     150.0     20900   \n",
       "2010-10-04      71.4     17900      20.0     18400     142.0     19600   \n",
       "2010-10-05      64.5     15900      18.0     16100     130.0     17300   \n",
       "\n",
       "            05490500 05494300  \n",
       "2010-10-01   24200.0     22.0  \n",
       "2010-10-02   22800.0     18.3  \n",
       "2010-10-03   21600.0     15.8  \n",
       "2010-10-04   20300.0     14.6  \n",
       "2010-10-05   18700.0     13.8  \n",
       "\n",
       "[5 rows x 32 columns]"
      ]
     },
     "execution_count": 2,
     "metadata": {},
     "output_type": "execute_result"
    }
   ],
   "source": [
    "with open('dmrb.pickle', 'rb') as handle:\n",
    "    dmrb = pickle.load(handle)\n",
    "df = pd.DataFrame(dmrb,dtype=np.float64)\n",
    "df.replace(r'^\\s*$', np.nan, regex=True, inplace=True)\n",
    "df.astype(float,inplace=True)\n",
    "colsDrop = ['05476500','05476590','05476735','05478265','05480080','05480820','05480930','05489490','05481510','05482315','05482430','05483318','05483349','05483470','05484600']\n",
    "df.drop(columns = colsDrop ,inplace=True)\n",
    "\n",
    "df.head()"
   ]
  },
  {
   "cell_type": "markdown",
   "metadata": {},
   "source": [
    "### Define Functions to use\n",
    "No need to read this part..."
   ]
  },
  {
   "cell_type": "code",
   "execution_count": 3,
   "metadata": {},
   "outputs": [],
   "source": [
    "def wave(t,f,a,wtype):\n",
    "    func = {'sin':np.sin, 'saw':signal.sawtooth, 'square':signal.square}\n",
    "    if wtype == 'sin':\n",
    "        return a * func[wtype](f * t * 2 * np.pi) * a/2 * func[wtype](2 * f * t * np.pi)\n",
    "    else:\n",
    "        return a * func[wtype](2 * np.pi * f * t)\n",
    "\n",
    "def waveform(t,d,extras=[]):\n",
    "    # Form\n",
    "    # [method,a,f]\n",
    "    \n",
    "    func = {'sin':np.sin, 'saw':signal.sawtooth, 'square':signal.square}\n",
    "    \n",
    "    # create base wave form with dominant freq and harmonic(s)\n",
    "    wave = d[1] * func[d[0]](d[2] * t * 2 * np.pi) + d[1]/2 * func[d[0]](2 * d[2] * t * 2 * np.pi) \n",
    "    \n",
    "    # and movement given other gages (upstream)\n",
    "    # [method,a,f]\n",
    "    for w in extras:\n",
    "        wave += w[1] * func[w[0]](2 * np.pi * w[2] * t)\n",
    "    \n",
    "    return wave\n",
    "\n",
    "def linkTones(tones):\n",
    "    for t in tones:\n",
    "        l = int(len(t)/4)\n",
    "        for i in range(0,l):\n",
    "            t[len(t) - l+i] *= (1 - i /l)\n",
    "            t[i] *= i/l\n",
    "            \n",
    "    full = np.concatenate(tones)\n",
    "    full = full * (2**15 - 1) / np.max(np.abs(full))\n",
    "    return full.astype(np.int16)\n",
    "\n",
    "def linearFlow2Freq(flow,flowLimits,freqLimits,relationship='negative'):\n",
    "    lowFreq = 130\n",
    "    highFreq = 1300\n",
    "    \n",
    "    lowFlow = 0\n",
    "    highFlow = 90000\n",
    "    \n",
    "    if relationship == 'negative':\n",
    "        freq = (freqLimits[0] - freqLimits[1])/(flowLimits[1] - flowLimits[0]) * flow + freqLimits[1]\n",
    "    else:\n",
    "        freq = (freqLimits[1] - freqLimits[0])/(flowLimits[1] - flowLimits[0]) * flow + freqLimits[0]\n",
    "        \n",
    "    return freq\n",
    "\n",
    "def freqMap(data,log=True,inv=False,offset=0):\n",
    "    if log:\n",
    "        bins = np.linspace(np.log(data.min()), np.log(data.max()), len(freq)-1)\n",
    "        digitized = np.digitize(np.log(data),bins)\n",
    "    else:\n",
    "        bins = np.linspace(data.min(), data.max(), len(freq)-1)\n",
    "        np.digitize(data,bins)\n",
    "    \n",
    "    if inv:\n",
    "        f = [freqinv[i] for i in digitized]\n",
    "    else:\n",
    "        f = [freq[i] for i in digitized]\n",
    "        \n",
    "    return f"
   ]
  },
  {
   "cell_type": "markdown",
   "metadata": {},
   "source": [
    "### Vars"
   ]
  },
  {
   "cell_type": "code",
   "execution_count": 4,
   "metadata": {},
   "outputs": [],
   "source": [
    "freqDict = {\n",
    "    'C Major Pentatonic' : [130.81,146.83,164.81,196,220,261.63,293.66,329.63,392,440,523.25,587.3,659.26,783.99,880,1046],\n",
    "    'Chromatic' : [130.81,138.59,146.83,155.56,164.81,174.61,185.00,196.00,207.65,220.00,233.08,246.94,261.63,277.18,293.66,311.13,329.63,349.23,369.99,392.00,415.30,440.00,466.16,493.88,523.25,554.37],\n",
    "    'Arab Double Harmonic' : [130.81,138.59,164.81,174.61,196.00,207.65,246.94,261.63,277.18,329.63,349.23,392.00,415.30,493.88,523.25]\n",
    "}\n",
    "\n",
    "rootgages = {'raccoon':'05484900','upper':'05482000','lower':'05490500'}\n",
    "uppergages = {\n",
    "    'raccoon' :['05482300','05483450'],\n",
    "    'upper' : ['05476750','05476750'],\n",
    "    'lower' : ['05487470','05488200']\n",
    "}\n",
    "\n",
    "# Gaged areas\n",
    "upper = 6245; raccoon = 3625; total = 14038; lower = total - raccoon - upper;"
   ]
  },
  {
   "cell_type": "markdown",
   "metadata": {},
   "source": [
    "### Step 1: Choose your array of frequencies\n",
    "Your choices:\n",
    "- `C Major Pentatonic`\n",
    "- `Chromatic`\n",
    "- `Arab Double Harmonic`\n",
    "\n",
    "`freq` holds the scale from low to high notes\n",
    "\n",
    "`invfreq` hold the scale from high to low notes"
   ]
  },
  {
   "cell_type": "code",
   "execution_count": 13,
   "metadata": {},
   "outputs": [],
   "source": [
    "style = 'C Major Pentatonic'\n",
    "freq = freqDict[style]\n",
    "freqinv = freq[::-1] # switch order to play "
   ]
  },
  {
   "cell_type": "markdown",
   "metadata": {},
   "source": [
    "### Step 2: Choose the root, or dominant, gage\n",
    "The flow from the dominant gage will be mapped to frequencies with a pure sine wave.\n",
    "After you can alter it will other gages using sine, sawtooth, or square waves.\n",
    "\n",
    "For the example of the Des Moines River Basin, there are three dominant gages which partion the basin into:\n",
    "- `upper`\n",
    "- `lower`\n",
    "- `raccoon`\n",
    "\n",
    "With the same key we can grab a curated selection of gages that are nested *within* the root basin.\n",
    "(These have been curated over the length of the weekend through trial and error.\n",
    "Go ahead, play a little. Pick any one of the gage names in `df`)"
   ]
  },
  {
   "cell_type": "code",
   "execution_count": 14,
   "metadata": {},
   "outputs": [],
   "source": [
    "subbasin = 'raccoon'\n",
    "root = rootgages[subbasin]\n",
    "sup = uppergages[subbasin]"
   ]
  },
  {
   "cell_type": "markdown",
   "metadata": {},
   "source": [
    "### Step 3: Pick Start and Stop Dates, Total Play Time for Audio\n",
    "The dataset has daily data from `2010-10-011` to `2020-09-30`.\n",
    "You can choose any slice of time to sonify between those two dates.\n",
    "\n",
    "Next, the audio play length **in seconds**.\n",
    "We recommend ~60 per year of streamflow data."
   ]
  },
  {
   "cell_type": "code",
   "execution_count": 15,
   "metadata": {},
   "outputs": [],
   "source": [
    "start = '2018-10-01'\n",
    "stop = '2019-09-30'\n",
    "\n",
    "totalPlayTime = 60 # sec"
   ]
  },
  {
   "cell_type": "markdown",
   "metadata": {},
   "source": [
    "### Step 4: Map Flows to Frequencies and Amplitudes\n",
    "\n",
    "**Frequency**\n",
    "For the flow to frequency mapping can be done in a number of ways.\n",
    "We have chosen to bin frequencies and then map those binned flow data to a specific frequency in the frequency array we defined above.\n",
    "\n",
    "The default is to map high flows to high frequencies (high flows equal higher tones/pitches.)\n",
    "Note that for `fd` we supply a argument `inv=True`.\n",
    "That means we invert the relationship for that gage (high flows mean lower tones/pitches.)\n",
    "\n",
    "We have found that this creates interesting musicality when the largest basin is inverted.\n",
    "\n",
    "**Amplitude**\n",
    "\n",
    "Altering the amplitude would change the dynamics; whether something is louder or quieter.\n",
    "In this example we do not change the amplitude with respect to flow, but(!) it can be done, and we have done so in some of our \"songs\".\n",
    "List to some of our `.wav` files to take a listen to dynamically changing amplitudes with flow as well."
   ]
  },
  {
   "cell_type": "code",
   "execution_count": 25,
   "metadata": {},
   "outputs": [],
   "source": [
    "fd = freqMap(df[root][start:stop].astype(np.float64),inv=True)\n",
    "fs1 = freqMap(df[sup[0]][start:stop].astype(np.float64))\n",
    "fs2 = freqMap(df[sup[1]][start:stop].astype(np.float64))\n",
    "\n",
    "\n",
    "# you can get creative with the amplitudes, not showing that right now\n",
    "ad = [1 for i in fd] \n",
    "as1 = [0.2 for i in fs1]\n",
    "as2 = [0.2 for i in fs2] "
   ]
  },
  {
   "cell_type": "code",
   "execution_count": 17,
   "metadata": {},
   "outputs": [],
   "source": [
    "dayPlay = totalPlayTime / len(df[root][start:stop]) # length of note/day in seconds\n",
    "fs = 44100 # samples per second\n",
    "t = np.linspace(0, dayPlay, dayPlay * fs, False)\n",
    "totalSamples = totalPlayTime * fs"
   ]
  },
  {
   "cell_type": "code",
   "execution_count": 18,
   "metadata": {},
   "outputs": [],
   "source": [
    "tones = []\n",
    "for a,f,a1,f1,a2,f2 in zip(ad,fd,as1,fs1,as2,fs2):\n",
    "\n",
    "    #dominant tone\n",
    "    dom = ['sin',a,f]\n",
    "           \n",
    "    # give extras\n",
    "    extra = []\n",
    "#     extra.append(['sin',a2,f2]) ## \n",
    "    extra.append(['square',a1,f1])\n",
    "    extra.append(['square',a2,f2])\n",
    "    \n",
    "    tone = waveform(t,dom,extra)\n",
    "    tones.append(tone)\n",
    "\n",
    "full = linkTones(tones)"
   ]
  },
  {
   "cell_type": "markdown",
   "metadata": {},
   "source": [
    "### Visualize the note frequency changes"
   ]
  },
  {
   "cell_type": "code",
   "execution_count": 22,
   "metadata": {},
   "outputs": [
    {
     "data": {
      "image/png": "[encoded data removed]",
      "text/plain": [
       "<Figure size 1728x648 with 1 Axes>"
      ]
     },
     "metadata": {},
     "output_type": "display_data"
    }
   ],
   "source": [
    "plt.figure(figsize=(24,9))\n",
    "plt.plot(fd,color='k',linewidth=2)\n",
    "plt.plot(fs1,color='#9ea0a3',linewidth=0.5)\n",
    "plt.plot(fs2,color='#5b6068',linewidth=0.5)\n",
    "plt.legend(['Dom','Sup1','Sup2'])\n",
    "plt.title('{0} Flow Data as Frequency \\n {1} to {2}'.format(subbasin,start,stop))\n",
    "plt.show()"
   ]
  },
  {
   "cell_type": "markdown",
   "metadata": {},
   "source": [
    "# PLAY YOUR MASTERPIECE\n",
    "Moment of truth... what's sound like?"
   ]
  },
  {
   "cell_type": "code",
   "execution_count": 23,
   "metadata": {},
   "outputs": [],
   "source": [
    "# Wait for playback to finish before exiting\n",
    "play_obj = sa.play_buffer(full, 1, 2, fs)\n",
    "play_obj.wait_done()"
   ]
  },
  {
   "cell_type": "markdown",
   "metadata": {},
   "source": [
    "## If you like it, save it as a wav file"
   ]
  },
  {
   "cell_type": "code",
   "execution_count": 26,
   "metadata": {},
   "outputs": [],
   "source": [
    "fileName = \"music/wav/{0}-{1}-{2}-{3}.wav\".format(subbasin,style,start,stop)\n",
    "wavio.write(fileName, full, fs, sampwidth=2)"
   ]
  },
  {
   "cell_type": "code",
   "execution_count": null,
   "metadata": {},
   "outputs": [],
   "source": []
  }
 ],
 "metadata": {
  "kernelspec": {
   "display_name": "Python 3",
   "language": "python",
   "name": "python3"
  },
  "language_info": {
   "codemirror_mode": {
    "name": "ipython",
    "version": 3
   },
   "file_extension": ".py",
   "mimetype": "text/x-python",
   "name": "python",
   "nbconvert_exporter": "python",
   "pygments_lexer": "ipython3",
   "version": "3.6.5"
  }
 },
 "nbformat": 4,
 "nbformat_minor": 2
}
