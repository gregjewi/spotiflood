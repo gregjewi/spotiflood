{
 "cells": [
  {
   "cell_type": "code",
   "execution_count": 3,
   "metadata": {},
   "outputs": [],
   "source": [
    "import requests\n",
    "from bs4 import BeautifulSoup\n",
    "import json\n",
    "import pandas as pd\n",
    "from datetime import datetime\n",
    "import pytz\n",
    "from matplotlib.pyplot import plot as plt\n",
    "import pickle\n",
    "import numpy as np\n",
    "import simpleaudio as sa"
   ]
  },
  {
   "cell_type": "code",
   "execution_count": 5,
   "metadata": {},
   "outputs": [],
   "source": [
    "gageName = {\n",
    "    '5476500':'Des Moines River at Estherville, IA',\n",
    "    '5476590':'Des Moines River at Emmetsburg, IA',\n",
    "    '5476735':'Pilot Creek at County Hwy P15 near Rolfe, IA',\n",
    "    '5476750':'Des Moines River at Humboldt, IA',\n",
    "    '5478265':'East Fork Des Moines River near Algona, IA',\n",
    "    '5479000':'East Fork Des Moines River at Dakota City, IA',\n",
    "    '5480080':'Lizard Creek near Fort Dodge, IA',\n",
    "    '5480500':'Des Moines River at Fort Dodge, IA',\n",
    "    '5480820':'Boone River near Goldfield, IA',\n",
    "    '5480930':'White Fox Creek at Clarion, IA',\n",
    "    '5481000':'Boone River near Webster City, IA',\n",
    "    '5481300':'Des Moines River near Stratford, IA',\n",
    "    '5481510':'Bluff Creek at Pilot Mound, IA',\n",
    "    '5481650':'Des Moines River near Saylorville, IA',\n",
    "    '5481950':'Beaver Creek near Grimes, IA',\n",
    "    '5482000':'Des Moines River at 2nd Avenue at Des Moines, IA',\n",
    "    '5482300':'North Raccoon River near Sac City, IA',\n",
    "    '5482315':'Black Hawk Lake at Lake View, IA',\n",
    "    '5482430':'North Raccoon River near Lanesboro, IA',\n",
    "    '5482500':'North Raccoon River near Jefferson, IA',\n",
    "    '5483318':'Brushy Fork Creek near Templeton, IA',\n",
    "    '5483349':'Middle Raccoon River Tributary at Carroll, IA',\n",
    "    '5483450':'Middle Raccoon River near Bayard, IA',\n",
    "    '5483470':'Lake Panorama at Panora, IA',\n",
    "    '5483600':'Middle Raccoon River at Panora, IA',\n",
    "    '5484000':'South Raccoon River at Redfield, IA',\n",
    "    '5484500':'Raccoon River at Van Meter, IA',\n",
    "    '5484600':'Raccoon River near West Des Moines, IA',\n",
    "    '5484650':'Raccoon River at 63rd Street at Des Moines, IA',\n",
    "    '5484800':'Walnut Creek at Des Moines, IA',\n",
    "    '5484900':'Raccoon River at Fleur Drive at Des Moines, IA',\n",
    "    '5485500':'Des Moines River blw Raccoon Riv at Des Moines, IA',\n",
    "    '5485605':'Fourmile Creek near Ankeny, IA DS1',\n",
    "    '5485640':'Fourmile Creek at Des Moines, IA',\n",
    "    '5486000':'North River near Norwalk, IA',\n",
    "    '5486490':'Middle River near Indianola, IA',\n",
    "    '5487470':'South River near Ackworth, IA',\n",
    "    '5487520':'Des Moines River near Swan, IA',\n",
    "    '5487980':'White Breast Creek near Dallas, IA',\n",
    "    '5488110':'Des Moines River near Pella, IA',\n",
    "    '5488200':'English Creek near Knoxville, IA',\n",
    "    '5488500':'Des Moines River near Tracy, IA',\n",
    "    '5489000':'Cedar Creek near Bussey, IA',\n",
    "    '5489490':'Bear Creek at Ottumwa, IA',\n",
    "    '5489500':'Des Moines River at Ottumwa, IA',\n",
    "    '5490500':'Des Moines River at Keosauqua, IA',\n",
    "    '5494300':'Fox River at Bloomfield, IA'\n",
    "}"
   ]
  },
  {
   "cell_type": "code",
   "execution_count": 76,
   "metadata": {},
   "outputs": [],
   "source": [
    "dmrb = {}\n",
    "\n",
    "for i in gageName:\n",
    "    query = 'https://waterdata.usgs.gov/nwis/dv?cb_00060=on&format=rdb&site_no=0{0}&referred_module=sw&period=&begin_date=2010-10-01&end_date=2020-09-30'\n",
    "    r = requests.get(query.format(i), verify= True)\n",
    "    data = r.content.decode('utf-8')\n",
    "    data = data.split('\\n')\n",
    "    \n",
    "    dmrb['0' + i] = {}\n",
    "    for line in data:\n",
    "        if len(line)>0 and line[0] == 'U':\n",
    "            entry = line.split('\\t')\n",
    "            dmrb[entry[1]][entry[2]]=entry[3]\n",
    "        else:\n",
    "            pass\n",
    "        \n",
    "with open('dmrb.pickle','wb') as handle:\n",
    "    pickle.dump(dmrb, handle)"
   ]
  },
  {
   "cell_type": "code",
   "execution_count": null,
   "metadata": {},
   "outputs": [],
   "source": []
  }
 ],
 "metadata": {
  "kernelspec": {
   "display_name": "Python 3",
   "language": "python",
   "name": "python3"
  },
  "language_info": {
   "codemirror_mode": {
    "name": "ipython",
    "version": 3
   },
   "file_extension": ".py",
   "mimetype": "text/x-python",
   "name": "python",
   "nbconvert_exporter": "python",
   "pygments_lexer": "ipython3",
   "version": "3.6.5"
  }
 },
 "nbformat": 4,
 "nbformat_minor": 2
}
